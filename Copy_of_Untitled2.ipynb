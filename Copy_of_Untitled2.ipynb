{
  "nbformat": 4,
  "nbformat_minor": 0,
  "metadata": {
    "colab": {
      "name": "Copy of Untitled2.ipynb",
      "provenance": [],
      "collapsed_sections": [],
      "authorship_tag": "ABX9TyOKZgIzGd4Q4QazY2rtqD7a",
      "include_colab_link": true
    },
    "kernelspec": {
      "name": "python3",
      "display_name": "Python 3"
    },
    "language_info": {
      "name": "python"
    }
  },
  "cells": [
    {
      "cell_type": "markdown",
      "metadata": {
        "id": "view-in-github",
        "colab_type": "text"
      },
      "source": [
        "<a href=\"https://colab.research.google.com/github/kazemiakk/wss_mri_calculator/blob/master/Copy_of_Untitled2.ipynb\" target=\"_parent\"><img src=\"https://colab.research.google.com/assets/colab-badge.svg\" alt=\"Open In Colab\"/></a>"
      ]
    },
    {
      "cell_type": "code",
      "execution_count": null,
      "metadata": {
        "colab": {
          "base_uri": "https://localhost:8080/"
        },
        "id": "z61Tgk6YCsti",
        "outputId": "b8b412e0-3d5c-444e-f27f-d87be970d783"
      },
      "outputs": [
        {
          "output_type": "stream",
          "name": "stdout",
          "text": [
            "Epoch 0 Loss: tensor(1.1971, grad_fn=<MseLossBackward0>)\n",
            "Epoch 1 Loss: tensor(1.1933, grad_fn=<MseLossBackward0>)\n",
            "Epoch 2 Loss: tensor(1.1856, grad_fn=<MseLossBackward0>)\n",
            "Epoch 3 Loss: tensor(1.1741, grad_fn=<MseLossBackward0>)\n",
            "Epoch 4 Loss: tensor(1.1589, grad_fn=<MseLossBackward0>)\n",
            "Epoch 5 Loss: tensor(1.1401, grad_fn=<MseLossBackward0>)\n",
            "Epoch 6 Loss: tensor(1.1179, grad_fn=<MseLossBackward0>)\n",
            "Epoch 7 Loss: tensor(1.0923, grad_fn=<MseLossBackward0>)\n",
            "Epoch 8 Loss: tensor(1.0637, grad_fn=<MseLossBackward0>)\n",
            "Epoch 9 Loss: tensor(1.0321, grad_fn=<MseLossBackward0>)\n",
            "Epoch 10 Loss: tensor(0.9979, grad_fn=<MseLossBackward0>)\n",
            "Epoch 11 Loss: tensor(0.9612, grad_fn=<MseLossBackward0>)\n",
            "Epoch 12 Loss: tensor(0.9224, grad_fn=<MseLossBackward0>)\n",
            "Epoch 13 Loss: tensor(0.8816, grad_fn=<MseLossBackward0>)\n",
            "Epoch 14 Loss: tensor(0.8393, grad_fn=<MseLossBackward0>)\n",
            "Epoch 15 Loss: tensor(0.7957, grad_fn=<MseLossBackward0>)\n",
            "Epoch 16 Loss: tensor(0.7511, grad_fn=<MseLossBackward0>)\n",
            "Epoch 17 Loss: tensor(0.7058, grad_fn=<MseLossBackward0>)\n",
            "Epoch 18 Loss: tensor(0.6602, grad_fn=<MseLossBackward0>)\n",
            "Epoch 19 Loss: tensor(0.6146, grad_fn=<MseLossBackward0>)\n",
            "Epoch 20 Loss: tensor(0.5694, grad_fn=<MseLossBackward0>)\n",
            "Epoch 21 Loss: tensor(0.5247, grad_fn=<MseLossBackward0>)\n",
            "Epoch 22 Loss: tensor(0.4811, grad_fn=<MseLossBackward0>)\n",
            "Epoch 23 Loss: tensor(0.4387, grad_fn=<MseLossBackward0>)\n",
            "Epoch 24 Loss: tensor(0.3979, grad_fn=<MseLossBackward0>)\n",
            "Epoch 25 Loss: tensor(0.3590, grad_fn=<MseLossBackward0>)\n",
            "Epoch 26 Loss: tensor(0.3223, grad_fn=<MseLossBackward0>)\n",
            "Epoch 27 Loss: tensor(0.2880, grad_fn=<MseLossBackward0>)\n",
            "Epoch 28 Loss: tensor(0.2563, grad_fn=<MseLossBackward0>)\n",
            "Epoch 29 Loss: tensor(0.2276, grad_fn=<MseLossBackward0>)\n",
            "Epoch 30 Loss: tensor(0.2019, grad_fn=<MseLossBackward0>)\n",
            "Epoch 31 Loss: tensor(0.1796, grad_fn=<MseLossBackward0>)\n",
            "Epoch 32 Loss: tensor(0.1607, grad_fn=<MseLossBackward0>)\n",
            "Epoch 33 Loss: tensor(0.1453, grad_fn=<MseLossBackward0>)\n",
            "Epoch 34 Loss: tensor(0.1337, grad_fn=<MseLossBackward0>)\n",
            "Epoch 35 Loss: tensor(0.1258, grad_fn=<MseLossBackward0>)\n",
            "Epoch 36 Loss: tensor(0.1218, grad_fn=<MseLossBackward0>)\n",
            "Epoch 37 Loss: tensor(0.1216, grad_fn=<MseLossBackward0>)\n",
            "Epoch 38 Loss: tensor(0.1253, grad_fn=<MseLossBackward0>)\n",
            "Epoch 39 Loss: tensor(0.1327, grad_fn=<MseLossBackward0>)\n",
            "Epoch 40 Loss: tensor(0.1440, grad_fn=<MseLossBackward0>)\n",
            "Epoch 41 Loss: tensor(0.1590, grad_fn=<MseLossBackward0>)\n",
            "Epoch 42 Loss: tensor(0.1775, grad_fn=<MseLossBackward0>)\n",
            "Epoch 43 Loss: tensor(0.1995, grad_fn=<MseLossBackward0>)\n",
            "Epoch 44 Loss: tensor(0.2247, grad_fn=<MseLossBackward0>)\n",
            "Epoch 45 Loss: tensor(0.2531, grad_fn=<MseLossBackward0>)\n",
            "Epoch 46 Loss: tensor(0.2843, grad_fn=<MseLossBackward0>)\n",
            "Epoch 47 Loss: tensor(0.3182, grad_fn=<MseLossBackward0>)\n",
            "Epoch 48 Loss: tensor(0.3545, grad_fn=<MseLossBackward0>)\n",
            "Epoch 49 Loss: tensor(0.3930, grad_fn=<MseLossBackward0>)\n",
            "Epoch 50 Loss: tensor(0.4334, grad_fn=<MseLossBackward0>)\n",
            "Epoch 51 Loss: tensor(0.4753, grad_fn=<MseLossBackward0>)\n",
            "Epoch 52 Loss: tensor(0.5185, grad_fn=<MseLossBackward0>)\n",
            "Epoch 53 Loss: tensor(0.5627, grad_fn=<MseLossBackward0>)\n",
            "Epoch 54 Loss: tensor(0.6075, grad_fn=<MseLossBackward0>)\n",
            "Epoch 55 Loss: tensor(0.6526, grad_fn=<MseLossBackward0>)\n",
            "Epoch 56 Loss: tensor(0.6978, grad_fn=<MseLossBackward0>)\n",
            "Epoch 57 Loss: tensor(0.7425, grad_fn=<MseLossBackward0>)\n",
            "Epoch 58 Loss: tensor(0.7867, grad_fn=<MseLossBackward0>)\n",
            "Epoch 59 Loss: tensor(0.8298, grad_fn=<MseLossBackward0>)\n",
            "Epoch 60 Loss: tensor(0.8716, grad_fn=<MseLossBackward0>)\n",
            "Epoch 61 Loss: tensor(0.9119, grad_fn=<MseLossBackward0>)\n",
            "Epoch 62 Loss: tensor(0.9502, grad_fn=<MseLossBackward0>)\n",
            "Epoch 63 Loss: tensor(0.9864, grad_fn=<MseLossBackward0>)\n",
            "Epoch 64 Loss: tensor(1.0201, grad_fn=<MseLossBackward0>)\n",
            "Epoch 65 Loss: tensor(1.0511, grad_fn=<MseLossBackward0>)\n",
            "Epoch 66 Loss: tensor(1.0793, grad_fn=<MseLossBackward0>)\n",
            "Epoch 67 Loss: tensor(1.1043, grad_fn=<MseLossBackward0>)\n",
            "Epoch 68 Loss: tensor(1.1260, grad_fn=<MseLossBackward0>)\n",
            "Epoch 69 Loss: tensor(1.1443, grad_fn=<MseLossBackward0>)\n",
            "Epoch 70 Loss: tensor(1.1590, grad_fn=<MseLossBackward0>)\n",
            "Epoch 71 Loss: tensor(1.1700, grad_fn=<MseLossBackward0>)\n",
            "Epoch 72 Loss: tensor(1.1772, grad_fn=<MseLossBackward0>)\n",
            "Epoch 73 Loss: tensor(1.1805, grad_fn=<MseLossBackward0>)\n",
            "Epoch 74 Loss: tensor(1.1800, grad_fn=<MseLossBackward0>)\n",
            "Epoch 75 Loss: tensor(1.1757, grad_fn=<MseLossBackward0>)\n",
            "Epoch 76 Loss: tensor(1.1675, grad_fn=<MseLossBackward0>)\n",
            "Epoch 77 Loss: tensor(1.1555, grad_fn=<MseLossBackward0>)\n",
            "Epoch 78 Loss: tensor(1.1399, grad_fn=<MseLossBackward0>)\n",
            "Epoch 79 Loss: tensor(1.1206, grad_fn=<MseLossBackward0>)\n",
            "Epoch 80 Loss: tensor(1.0979, grad_fn=<MseLossBackward0>)\n",
            "Epoch 81 Loss: tensor(1.0720, grad_fn=<MseLossBackward0>)\n",
            "Epoch 82 Loss: tensor(1.0429, grad_fn=<MseLossBackward0>)\n",
            "Epoch 83 Loss: tensor(1.0109, grad_fn=<MseLossBackward0>)\n",
            "Epoch 84 Loss: tensor(0.9763, grad_fn=<MseLossBackward0>)\n",
            "Epoch 85 Loss: tensor(0.9393, grad_fn=<MseLossBackward0>)\n",
            "Epoch 86 Loss: tensor(0.9000, grad_fn=<MseLossBackward0>)\n",
            "Epoch 87 Loss: tensor(0.8590, grad_fn=<MseLossBackward0>)\n",
            "Epoch 88 Loss: tensor(0.8163, grad_fn=<MseLossBackward0>)\n",
            "Epoch 89 Loss: tensor(0.7724, grad_fn=<MseLossBackward0>)\n",
            "Epoch 90 Loss: tensor(0.7275, grad_fn=<MseLossBackward0>)\n",
            "Epoch 91 Loss: tensor(0.6820, grad_fn=<MseLossBackward0>)\n",
            "Epoch 92 Loss: tensor(0.6361, grad_fn=<MseLossBackward0>)\n",
            "Epoch 93 Loss: tensor(0.5903, grad_fn=<MseLossBackward0>)\n",
            "Epoch 94 Loss: tensor(0.5448, grad_fn=<MseLossBackward0>)\n",
            "Epoch 95 Loss: tensor(0.4999, grad_fn=<MseLossBackward0>)\n",
            "Epoch 96 Loss: tensor(0.4561, grad_fn=<MseLossBackward0>)\n",
            "Epoch 97 Loss: tensor(0.4136, grad_fn=<MseLossBackward0>)\n",
            "Epoch 98 Loss: tensor(0.3726, grad_fn=<MseLossBackward0>)\n",
            "Epoch 99 Loss: tensor(0.3336, grad_fn=<MseLossBackward0>)\n"
          ]
        }
      ],
      "source": [
        "import torch\n",
        "x=torch.rand(100,3)\n",
        "yt=torch.rand(100,2)\n",
        "model=torch.nn.Linear(3,2)\n",
        "loss=torch.nn.MSELoss()\n",
        "optimizer=torch.optim.SGD(model.parameters(), lr=0.001)\n",
        "\n",
        "num_epochs=100\n",
        "for epoch in range(num_epochs):\n",
        "  yp=model(x)\n",
        "  loss_value=loss(yp,yt)\n",
        "  print('Epoch',epoch,'Loss:', loss_value)\n",
        "  loss_value.backward()\n",
        "  optimizer.step()\n",
        "\n"
      ]
    }
  ]
}